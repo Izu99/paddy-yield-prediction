{
 "cells": [
  {
   "cell_type": "markdown",
   "metadata": {
    "id": "vE56UXEItoUn"
   },
   "source": [
    "**Import Libraries and Setup**"
   ]
  },
  {
   "cell_type": "code",
   "execution_count": null,
   "metadata": {
    "id": "aIvFja3scEOM"
   },
   "outputs": [],
   "source": [
    "import pandas as pd\n",
    "from sklearn.model_selection import train_test_split\n",
    "from sklearn.ensemble import RandomForestRegressor\n",
    "from sklearn.metrics import mean_absolute_error, mean_squared_error, r2_score\n",
    "from sklearn.preprocessing import OneHotEncoder\n",
    "from sklearn.compose import ColumnTransformer\n",
    "from sklearn.pipeline import Pipeline\n",
    "import joblib\n"
   ]
  },
  {
   "cell_type": "markdown",
   "metadata": {
    "id": "uZaHP0Uit1sV"
   },
   "source": [
    "**Load Dataset** **and handle missing values**"
   ]
  },
  {
   "cell_type": "code",
   "execution_count": null,
   "metadata": {
    "id": "8CswzBAQci4S"
   },
   "outputs": [],
   "source": [
    "dataset = pd.read_csv('Harvest_Prediction_Factors_Merged.csv')\n",
    "\n",
    "# Optionally, assign the dataset to df\n",
    "df = dataset\n",
    "\n",
    "# Handle missing values\n",
    "df = df.dropna()\n",
    "\n"
   ]
  },
  {
   "cell_type": "markdown",
   "metadata": {
    "id": "BjhavtggtvEP"
   },
   "source": []
  },
  {
   "cell_type": "markdown",
   "metadata": {
    "id": "IYLB9cyYt_fn"
   },
   "source": [
    "**Explore Dataset**"
   ]
  },
  {
   "cell_type": "code",
   "execution_count": null,
   "metadata": {
    "colab": {
     "base_uri": "https://localhost:8080/",
     "height": 694
    },
    "id": "HqsWLDm0cl6H",
    "outputId": "0a3c2390-5573-48dd-bb60-8c1137f7ea60"
   },
   "outputs": [],
   "source": [
    "dataset.info()\n",
    "dataset.head()\n"
   ]
  },
  {
   "cell_type": "markdown",
   "metadata": {
    "id": "860MYGiauOv3"
   },
   "source": [
    "**Rows and Columns**"
   ]
  },
  {
   "cell_type": "code",
   "execution_count": null,
   "metadata": {
    "colab": {
     "base_uri": "https://localhost:8080/"
    },
    "id": "vZgGCjXKuMCq",
    "outputId": "1f353ef0-2465-4807-80a1-5877e4ac11ae"
   },
   "outputs": [],
   "source": [
    "# Step 4: Check the Dimensions of the Dataset\n",
    "rows, columns = dataset.shape\n",
    "print(f\"The dataset contains {rows} rows and {columns} columns.\")\n"
   ]
  },
  {
   "cell_type": "markdown",
   "metadata": {
    "id": "xsQootMhuudy"
   },
   "source": [
    "**Define Features and Target**"
   ]
  },
  {
   "cell_type": "code",
   "execution_count": null,
   "metadata": {
    "id": "UD-JCx7Vco0x"
   },
   "outputs": [],
   "source": [
    "X = dataset.drop(columns=[' Yield (kg)'])\n",
    "y = dataset[' Yield (kg)']\n"
   ]
  },
  {
   "cell_type": "markdown",
   "metadata": {
    "id": "SaYVcTT8u2bK"
   },
   "source": [
    "**Split Dataset into Training and Testing Sets**"
   ]
  },
  {
   "cell_type": "code",
   "execution_count": null,
   "metadata": {
    "colab": {
     "base_uri": "https://localhost:8080/"
    },
    "id": "w_x-pVl0cuDN",
    "outputId": "7c64acd7-9e0c-446f-ea9c-45f8a0d0dd2f"
   },
   "outputs": [],
   "source": [
    "X_train, X_test, y_train, y_test = train_test_split(X, y, test_size=0.2, random_state=42)\n",
    "# Display training and testing sizes\n",
    "print(f\"Training data size: {X_train.shape}\")\n",
    "print(f\"Testing data size: {X_test.shape}\")\n"
   ]
  },
  {
   "cell_type": "markdown",
   "metadata": {
    "id": "N1cCkwIUvodP"
   },
   "source": [
    "\n",
    "**Preprocessing and Feature Transformation**\n",
    "\n"
   ]
  },
  {
   "cell_type": "code",
   "execution_count": null,
   "metadata": {
    "colab": {
     "base_uri": "https://localhost:8080/"
    },
    "id": "_N1lq0GhQeag",
    "outputId": "8813acae-c3d9-43fc-cd03-7a4978d5825b"
   },
   "outputs": [],
   "source": [
    "categorical_features = ['Soil Type', 'Irrigation Type', 'Water Source',\n",
    "                        'Paddy Variety', 'Pest Severity', 'Season', 'District']\n",
    "\n",
    "numerical_features = X.select_dtypes(include=['float64', 'int64']).columns.tolist()\n",
    "print(\"numerical_features\", numerical_features)\n",
    "\n",
    "numerical_features = [col for col in numerical_features if col not in categorical_features]\n",
    "print(\"numerical_features =\", numerical_features)\n",
    "\n",
    "# Preprocessing: Encode categorical features\n",
    "preprocessor = ColumnTransformer(\n",
    "    transformers=[\n",
    "        ('cat', OneHotEncoder(handle_unknown='ignore'), categorical_features)\n",
    "    ],\n",
    "    remainder='passthrough',  # Leave numerical features untouched\n",
    "    force_int_remainder_cols=False  # Future-proof behavior\n",
    ")\n",
    "\n",
    "print(\"\\nPreprocessor Details:\")\n",
    "print(preprocessor)\n"
   ]
  },
  {
   "cell_type": "markdown",
   "metadata": {
    "id": "Is4OLnuBvgHP"
   },
   "source": [
    "**Create Pipeline for Preprocessing and Model**\n"
   ]
  },
  {
   "cell_type": "code",
   "execution_count": null,
   "metadata": {
    "id": "BmEhCYqMc0vH"
   },
   "outputs": [],
   "source": [
    "pipeline = Pipeline(steps=[\n",
    "    ('preprocessor', preprocessor),  # Data preprocessing step (scaling, encoding, etc.)\n",
    "\n",
    "    ('model', RandomForestRegressor(\n",
    "        n_estimators=150,              # Number of trees in the forest (reduces variance and prevents overfitting by averaging predictions)\n",
    "        max_depth=18,                  # Limits the depth of each tree to prevent overfitting by controlling model complexity\n",
    "        min_samples_split=10,          # Requires at least 10 samples to split a node (prevents overly specific splits)\n",
    "        min_samples_leaf=4,            # Ensures that each leaf node has at least 4 samples, preventing overfitting to small data variations\n",
    "        random_state=42                # Ensures reproducibility of results (ensures the same splits each time for consistency in testing)\n",
    "    ))\n",
    "])\n"
   ]
  },
  {
   "cell_type": "markdown",
   "metadata": {
    "id": "E67wlvQEvzhi"
   },
   "source": [
    "**Train the Model**"
   ]
  },
  {
   "cell_type": "code",
   "execution_count": null,
   "metadata": {
    "colab": {
     "base_uri": "https://localhost:8080/",
     "height": 219
    },
    "id": "lbQTWQxwc7pp",
    "outputId": "b711c7ed-6d59-4158-af36-19620bede49d"
   },
   "outputs": [],
   "source": [
    "pipeline.fit(X_train, y_train)\n",
    "\n"
   ]
  },
  {
   "cell_type": "markdown",
   "metadata": {
    "id": "8a9BDXij9ei4"
   },
   "source": [
    "**Test Performance**"
   ]
  },
  {
   "cell_type": "code",
   "execution_count": null,
   "metadata": {
    "colab": {
     "base_uri": "https://localhost:8080/"
    },
    "id": "d3Qzy7mApJuo",
    "outputId": "d7de9459-caeb-44f9-d987-bad15c261cc6"
   },
   "outputs": [],
   "source": [
    "# Step 5: Evaluate model on test set\n",
    "y_test_pred = pipeline.predict(X_test)\n",
    "\n",
    "# Test Metrics\n",
    "test_mae = mean_absolute_error(y_test, y_test_pred)\n",
    "test_mse = mean_squared_error(y_test, y_test_pred)\n",
    "test_r2 = r2_score(y_test, y_test_pred)\n",
    "\n",
    "print(f\"Test MAE: {test_mae}\")\n",
    "print(f\"Test MSE: {test_mse}\")\n",
    "print(f\"Test R²: {test_r2}\")\n"
   ]
  },
  {
   "cell_type": "markdown",
   "metadata": {
    "id": "LzrE_gAwR5i4"
   },
   "source": [
    "**Accuracy of the model**"
   ]
  },
  {
   "cell_type": "code",
   "execution_count": null,
   "metadata": {
    "colab": {
     "base_uri": "https://localhost:8080/"
    },
    "id": "WUOSeYE_R0He",
    "outputId": "1b3d5e79-2c98-4de3-f460-995350ea7682"
   },
   "outputs": [],
   "source": [
    "import numpy as np\n",
    "from sklearn.metrics import mean_absolute_error, mean_squared_error, r2_score\n",
    "\n",
    "# Predict using the trained model\n",
    "y_pred = pipeline.predict(X_test)\n",
    "\n",
    "# Example metric calculations\n",
    "mae = mean_absolute_error(y_test, y_pred)\n",
    "mse = mean_squared_error(y_test, y_pred)\n",
    "r2 = r2_score(y_test, y_pred)\n",
    "\n",
    "# Calculate RMSE\n",
    "rmse = np.sqrt(mse)\n",
    "\n",
    "# Print the metrics\n",
    "print(f\"MAE: {mae}\")\n",
    "print(f\"MSE: {mse}\")\n",
    "print(f\"RMSE: {rmse}\")\n",
    "print(f\"R-squared: {r2}\")\n",
    "\n",
    "# MAPE and Accuracy\n",
    "mape = np.mean(np.abs((y_test - y_pred) / y_test)) * 100\n",
    "accuracy = 100 - mape\n",
    "print(f\"Mean Absolute Percentage Error (MAPE): {mape:.2f}%\")\n",
    "print(f\"Regression Accuracy: {accuracy:.2f}%\")\n"
   ]
  },
  {
   "cell_type": "markdown",
   "metadata": {
    "id": "UU-jPwjatIN5"
   },
   "source": [
    "**Save the test data**"
   ]
  },
  {
   "cell_type": "code",
   "execution_count": null,
   "metadata": {
    "colab": {
     "base_uri": "https://localhost:8080/"
    },
    "id": "N7NmNkVqnuN6",
    "outputId": "8cf381fc-5ef5-4981-92c7-beed1dbafeb2"
   },
   "outputs": [],
   "source": [
    "from sklearn.model_selection import train_test_split\n",
    "import pandas as pd\n",
    "\n",
    "# Load the dataset\n",
    "file_path = 'Harvest_Prediction_Factors_Merged.csv'  # Update with your file path\n",
    "data = pd.read_csv(file_path)\n",
    "\n",
    "# Split the data into 80% training and 20% testing\n",
    "train_data, test_data = train_test_split(data, test_size=0.2, random_state=42)\n",
    "\n",
    "# Save the test data to a CSV file\n",
    "test_file_path = 'Harvest_Prediction_Test_Data.csv'  # Update with desired save location\n",
    "test_data.to_csv(test_file_path, index=False)\n",
    "\n",
    "print(f\"Test data saved to: {test_file_path}\")\n"
   ]
  },
  {
   "cell_type": "markdown",
   "metadata": {
    "id": "QlzOXXTptnic"
   },
   "source": [
    "**Save the model**"
   ]
  },
  {
   "cell_type": "code",
   "execution_count": null,
   "metadata": {
    "colab": {
     "base_uri": "https://localhost:8080/"
    },
    "id": "wQthmmJ8dgof",
    "outputId": "d2ec49a9-2286-4a5c-d02a-ca7894918a67"
   },
   "outputs": [],
   "source": [
    "\n",
    "# Save the model\n",
    "model_path = \"rice_yield_random_forest_model.pkl\"\n",
    "joblib.dump(pipeline, model_path)\n",
    "print(f\"Model saved to {model_path}\")\n"
   ]
  },
  {
   "cell_type": "markdown",
   "metadata": {
    "id": "tEphWzuKU9uL"
   },
   "source": [
    "**Test data Performance**"
   ]
  },
  {
   "cell_type": "code",
   "execution_count": null,
   "metadata": {
    "colab": {
     "base_uri": "https://localhost:8080/",
     "height": 507
    },
    "id": "HiZSqed1n169",
    "outputId": "45f9d616-add2-499f-9d57-b9fd31413350"
   },
   "outputs": [],
   "source": [
    "import pandas as pd\n",
    "from sklearn.metrics import mean_squared_error, mean_absolute_error\n",
    "\n",
    "# Load the test data\n",
    "test_file_path = 'Harvest_Prediction_Test_Data.csv'  # Update with your test data path\n",
    "test_data = pd.read_csv(test_file_path)\n",
    "\n",
    "# Separate features and target variable\n",
    "X_test = test_data.drop(columns=[' Yield (kg)'])  # Replace 'Yield (kg)' with your target column name\n",
    "y_test = test_data[' Yield (kg)']  # Replace 'Yield (kg)' with your target column name\n",
    "\n",
    "# Load your trained model (ensure the model is trained and saved)\n",
    "import joblib\n",
    "model = joblib.load('rice_yield_random_forest_model.pkl')  # Update with your model path\n",
    "\n",
    "# Make predictions\n",
    "y_pred = model.predict(X_test)\n",
    "\n",
    "# Evaluate the model\n",
    "mse = mean_squared_error(y_test, y_pred)\n",
    "mae = mean_absolute_error(y_test, y_pred)\n",
    "\n",
    "print(\"Mean Squared Error (MSE):\", mse)\n",
    "print(\"Mean Absolute Error (MAE):\", mae)\n",
    "\n",
    "# Optionally, visualize the results\n",
    "import matplotlib.pyplot as plt\n",
    "\n",
    "plt.scatter(y_test, y_pred)\n",
    "plt.xlabel(\"Actual Yield (kg)\")\n",
    "plt.ylabel(\"Predicted Yield (kg)\")\n",
    "plt.title(\"Actual vs Predicted Yield\")\n",
    "plt.show()\n"
   ]
  },
  {
   "cell_type": "markdown",
   "metadata": {
    "id": "QwYeeKlQt2Dy"
   },
   "source": [
    "**Comparison of Predicted and Test data**"
   ]
  },
  {
   "cell_type": "code",
   "execution_count": null,
   "metadata": {
    "colab": {
     "base_uri": "https://localhost:8080/"
    },
    "id": "BzwNXHABo8AZ",
    "outputId": "dd450727-f2a8-4231-9356-549ef2b7a036"
   },
   "outputs": [],
   "source": [
    "import pandas as pd\n",
    "\n",
    "# Function to predict harvest based on input test data\n",
    "def predict_test_data(model, test_data):\n",
    "    # Prepare to store results\n",
    "    results = []\n",
    "\n",
    "    # Iterate through test data rows\n",
    "    for index, row in test_data.iterrows():\n",
    "        # Extract input features\n",
    "        new_data = pd.DataFrame([{\n",
    "            'Rainfall (mm)': row['Rainfall (mm)'],\n",
    "            'Temperature (°C)': row['Temperature (°C)'],\n",
    "            'Relative Humidity (%)': row['Relative Humidity (%)'],\n",
    "            'Sunshine Hours (hrs)': row['Sunshine Hours (hrs)'],\n",
    "            'Wind Speed (km/h)': row['Wind Speed (km/h)'],\n",
    "            'Soil Type': row['Soil Type'],\n",
    "            'Irrigation Type': row['Irrigation Type'],\n",
    "            'Water Source': row['Water Source'],\n",
    "            'Paddy Variety': row['Paddy Variety'],\n",
    "            'Fertilizer Usage (kg)': row['Fertilizer Usage (kg)'],\n",
    "            'Area (hectare)': row['Area (hectare)'],\n",
    "            'Soil Nitrogen (mg/kg)': row['Soil Nitrogen (mg/kg)'],\n",
    "            'Soil Phosphorus (mg/kg)': row['Soil Phosphorus (mg/kg)'],\n",
    "            'Soil Potassium (mg/kg)': row['Soil Potassium (mg/kg)'],\n",
    "            'Pest Severity': row['Pest Severity'],\n",
    "            'Season': row['Season'],\n",
    "            'District': row['District']\n",
    "        }])\n",
    "\n",
    "        # Predict the total yield\n",
    "        predicted_yield = model.predict(new_data)[0]\n",
    "\n",
    "        # Store actual and predicted values\n",
    "        results.append({\n",
    "            \"Actual Yield\": row[' Yield (kg)'],\n",
    "            \"Predicted Yield\": predicted_yield\n",
    "        })\n",
    "\n",
    "    # Return results as a DataFrame\n",
    "    return pd.DataFrame(results)\n",
    "\n",
    "# Load the test data\n",
    "test_file_path = 'Harvest_Prediction_Test_Data.csv'  # Update with your file path\n",
    "test_data = pd.read_csv(test_file_path)\n",
    "\n",
    "# Load your trained model\n",
    "import joblib\n",
    "pipeline = joblib.load('rice_yield_random_forest_model.pkl')  # Update with your model path\n",
    "\n",
    "# Predict for test data and compare\n",
    "results_df = predict_test_data(pipeline, test_data)\n",
    "\n",
    "# Save the results for evaluation\n",
    "results_df.to_csv('Prediction_Results.csv', index=False)\n",
    "\n",
    "print(\"Prediction results saved to 'Prediction_Results.csv'\")\n"
   ]
  },
  {
   "cell_type": "markdown",
   "metadata": {
    "id": "Z44jwYMYA2b8"
   },
   "source": [
    "**Farmer input data predict harvest based on land size**\n"
   ]
  },
  {
   "cell_type": "code",
   "execution_count": null,
   "metadata": {
    "colab": {
     "base_uri": "https://localhost:8080/"
    },
    "id": "ahhvhymyrDbp",
    "outputId": "0bac6013-8089-4cb1-d2ad-f47a13b6bc27"
   },
   "outputs": [],
   "source": [
    "import pandas as pd\n",
    "\n",
    "# Function to predict harvest based on input acreage and other factors, including recommendations based on yield comparison\n",
    "def predict_total_harvest():\n",
    "    # Step 1: Farmer inputs various factors\n",
    "    print(\"=== Enter Farm Data ===\")\n",
    "    area = float(input(\"Enter the total area of land in hectares: \"))\n",
    "    rainfall = float(input(\"Enter the total rainfall in mm: \"))\n",
    "    temperature = float(input(\"Enter the temperature in °C: \"))\n",
    "    humidity = float(input(\"Enter the relative humidity percentage: \"))\n",
    "    sunshine_hours = float(input(\"Enter the total sunshine hours per day: \"))\n",
    "    wind_speed = float(input(\"Enter the average wind speed in km/h: \"))\n",
    "    soil_type = input(\"Enter the soil type (e.g., Loam, Sandy, Clay): \")\n",
    "    irrigation_type = input(\"Enter the irrigation type (e.g., Rainfed, Canal, Tube Well): \")\n",
    "    water_source = input(\"Enter the water source (e.g., Well, River, Rainwater): \")\n",
    "    paddy_variety = input(\"Enter the paddy variety (e.g., BG 450, BG 250 , BG 350 , BG 360 ): \")\n",
    "    fertilizer_usage = float(input(\"Enter the fertilizer usage in kg: \"))\n",
    "    soil_nitrogen = float(input(\"Enter the soil nitrogen level in mg/kg: \"))\n",
    "    soil_phosphorus = float(input(\"Enter the soil phosphorus level in mg/kg: \"))\n",
    "    soil_potassium = float(input(\"Enter the soil potassium level in mg/kg: \"))\n",
    "    pest_severity = input(\"Enter the pest severity (e.g., Low, Medium, High): \")\n",
    "    season = input(\"Enter the season (e.g., Maha, Yala): \")\n",
    "    district = input(\"Enter the district: \")\n",
    "\n",
    "    # Step 2: Input for previous yield per acre\n",
    "    previous_yield_per_hectare = float(input(\"Enter the previous yield per hectare in kg: \"))\n",
    "\n",
    "    # Step 3: Prepare the data for prediction\n",
    "    new_data = pd.DataFrame([{\n",
    "        'Rainfall (mm)': rainfall,\n",
    "        'Temperature (°C)': temperature,\n",
    "        'Relative Humidity (%)': humidity,\n",
    "        'Sunshine Hours (hrs)': sunshine_hours,\n",
    "        'Wind Speed (km/h)': wind_speed,\n",
    "        'Soil Type': soil_type,\n",
    "        'Irrigation Type': irrigation_type,\n",
    "        'Water Source': water_source,\n",
    "        'Paddy Variety': paddy_variety,\n",
    "        'Fertilizer Usage (kg)': fertilizer_usage,\n",
    "        'Area (hectare)': area,  # This is still used, but model predicts per acre\n",
    "        'Soil Nitrogen (mg/kg)': soil_nitrogen,\n",
    "        'Soil Phosphorus (mg/kg)': soil_phosphorus,\n",
    "        'Soil Potassium (mg/kg)': soil_potassium,\n",
    "        'Pest Severity': pest_severity,\n",
    "        'Season': season,\n",
    "        'District': district\n",
    "    }])\n",
    "\n",
    "    # Step 4: Predict the total yield using the trained model (replace `pipeline` with your actual model)\n",
    "    Total_predicted_yield = pipeline.predict(new_data)[0]\n",
    "\n",
    "    # Step 5: Calculate yield per acre (Optional, as yield prediction might already be per acre)\n",
    "    predicted_yield_per_hectare = Total_predicted_yield / area\n",
    "\n",
    "    # Step 6: Display the predicted results\n",
    "    print(f\"\\n=== Predicted Results ===\")\n",
    "    print(f\"Total Harvest for {area} hectare: {Total_predicted_yield:.2f} kg\")\n",
    "    print(f\"Predicted Yield per hectare: {predicted_yield_per_hectare:.2f} kg\")\n",
    "    print(\"=========================\")\n",
    "\n",
    "    # Step 7: Compare the previous yield with the predicted yield and provide recommendations\n",
    "    print(\"\\n=== Recommendations Based on Yield Comparison ===\")\n",
    "\n",
    "    if previous_yield_per_hectare > predicted_yield_per_hectare:\n",
    "        print(\"Condition: Previous Yield > Predicted Yield\")\n",
    "        print(\"\\nPredicted Yield is LOWER than the Previous Yield.\")\n",
    "        print(\"Suggested Actions to Improve Yield:\")\n",
    "        print(\"- Optimize fertilizer usage based on soil tests.\")\n",
    "        print(\"- Improve irrigation practices to ensure consistent water supply.\")\n",
    "        print(\"- Consider pest control measures to minimize yield loss.\")\n",
    "        print(\"- Use high-yield paddy varieties suitable for the district.\")\n",
    "        print(\"- Apply balanced soil nutrients and organic matter.\")\n",
    "\n",
    "    elif predicted_yield_per_hectare > previous_yield_per_hectare:\n",
    "        print(\"Condition: Predicted Yield > Previous Yield\")\n",
    "        print(\"\\nPredicted Yield is HIGHER than the Previous Yield.\")\n",
    "        print(\"Recommendations for Maintaining or Further Improving Yield:\")\n",
    "        print(\"- Continue current agricultural practices.\")\n",
    "        print(\"- Monitor soil health regularly and apply nutrients accordingly.\")\n",
    "        print(\"- Use precision farming tools to track crop progress.\")\n",
    "        print(\"- Plan for seasonal crop rotation to maintain soil fertility.\")\n",
    "        print(\"- Use modern harvesting techniques to minimize post-harvest losses.\")\n",
    "\n",
    "    else:\n",
    "        print(\"Condition: Previous Yield == Predicted Yield\")\n",
    "        print(\"\\nPredicted Yield matches the Previous Yield. Keep up the current practices!\")\n",
    "\n",
    "    print(\"===========================\")\n",
    "    return Total_predicted_yield, predicted_yield_per_hectare\n",
    "\n",
    "# Run the function\n",
    "predict_total_harvest()\n"
   ]
  },
  {
   "cell_type": "markdown",
   "metadata": {
    "id": "KASU-EuMuMgj"
   },
   "source": [
    "**Farmer input data predict harvest based on land size**\n",
    "\n",
    "\n"
   ]
  },
  {
   "cell_type": "code",
   "execution_count": null,
   "metadata": {
    "colab": {
     "base_uri": "https://localhost:8080/"
    },
    "id": "W4WF_AIgd9IW",
    "outputId": "c698e15d-4b0d-422d-c897-5eda63e34be1"
   },
   "outputs": [],
   "source": [
    "import pandas as pd\n",
    "\n",
    "# Function to predict harvest based on input acreage and other factors, including recommendations based on yield comparison\n",
    "def predict_total_harvest():\n",
    "    # Step 1: Farmer inputs various factors\n",
    "    print(\"=== Enter Farm Data ===\")\n",
    "    area = float(input(\"Enter the total area of land in hectares: \"))\n",
    "    rainfall = float(input(\"Enter the total rainfall in mm: \"))\n",
    "    temperature = float(input(\"Enter the temperature in °C: \"))\n",
    "    humidity = float(input(\"Enter the relative humidity percentage: \"))\n",
    "    sunshine_hours = float(input(\"Enter the total sunshine hours per day: \"))\n",
    "    wind_speed = float(input(\"Enter the average wind speed in km/h: \"))\n",
    "    soil_type = input(\"Enter the soil type (e.g., Loam, Sandy, Clay): \")\n",
    "    irrigation_type = input(\"Enter the irrigation type (e.g., Rainfed, Canal, Tube Well): \")\n",
    "    water_source = input(\"Enter the water source (e.g., Well, River, Rainwater): \")\n",
    "    paddy_variety = input(\"Enter the paddy variety (e.g., BG 450, BG 250 , BG 350 , BG 360 ): \")\n",
    "    fertilizer_usage = float(input(\"Enter the fertilizer usage in kg: \"))\n",
    "    soil_nitrogen = float(input(\"Enter the soil nitrogen level in mg/kg: \"))\n",
    "    soil_phosphorus = float(input(\"Enter the soil phosphorus level in mg/kg: \"))\n",
    "    soil_potassium = float(input(\"Enter the soil potassium level in mg/kg: \"))\n",
    "    pest_severity = input(\"Enter the pest severity (e.g., Low, Medium, High): \")\n",
    "    season = input(\"Enter the season (e.g., Maha, Yala): \")\n",
    "    district = input(\"Enter the district: \")\n",
    "\n",
    "    # Step 2: Input for previous yield per acre\n",
    "    previous_yield_per_hectare = float(input(\"Enter the previous yield per hectare in kg: \"))\n",
    "\n",
    "    # Step 3: Prepare the data for prediction\n",
    "    new_data = pd.DataFrame([{\n",
    "        'Rainfall (mm)': rainfall,\n",
    "        'Temperature (°C)': temperature,\n",
    "        'Relative Humidity (%)': humidity,\n",
    "        'Sunshine Hours (hrs)': sunshine_hours,\n",
    "        'Wind Speed (km/h)': wind_speed,\n",
    "        'Soil Type': soil_type,\n",
    "        'Irrigation Type': irrigation_type,\n",
    "        'Water Source': water_source,\n",
    "        'Paddy Variety': paddy_variety,\n",
    "        'Fertilizer Usage (kg)': fertilizer_usage,\n",
    "        'Area (hectare)': area,  # This is still used, but model predicts per acre\n",
    "        'Soil Nitrogen (mg/kg)': soil_nitrogen,\n",
    "        'Soil Phosphorus (mg/kg)': soil_phosphorus,\n",
    "        'Soil Potassium (mg/kg)': soil_potassium,\n",
    "        'Pest Severity': pest_severity,\n",
    "        'Season': season,\n",
    "        'District': district\n",
    "    }])\n",
    "\n",
    "    # Step 4: Predict the total yield using the trained model (replace `pipeline` with your actual model)\n",
    "    Total_predicted_yield = pipeline.predict(new_data)[0]\n",
    "\n",
    "    # Step 5: Calculate yield per acre (Optional, as yield prediction might already be per acre)\n",
    "    predicted_yield_per_hectare = Total_predicted_yield / area\n",
    "\n",
    "    # Step 6: Display the predicted results\n",
    "    print(f\"\\n=== Predicted Results ===\")\n",
    "    print(f\"Total Harvest for {area} hectare: {Total_predicted_yield:.2f} kg\")\n",
    "    print(f\"Predicted Yield per hectare: {predicted_yield_per_hectare:.2f} kg\")\n",
    "    print(\"=========================\")\n",
    "\n",
    "    # Step 7: Compare the previous yield with the predicted yield and provide recommendations\n",
    "    print(\"\\n=== Recommendations Based on Yield Comparison ===\")\n",
    "\n",
    "    if previous_yield_per_hectare > predicted_yield_per_hectare:\n",
    "        print(\"Condition: Previous Yield > Predicted Yield\")\n",
    "        print(\"\\nPredicted Yield is LOWER than the Previous Yield.\")\n",
    "        print(\"Suggested Actions to Improve Yield:\")\n",
    "        print(\"- Optimize fertilizer usage based on soil tests.\")\n",
    "        print(\"- Improve irrigation practices to ensure consistent water supply.\")\n",
    "        print(\"- Consider pest control measures to minimize yield loss.\")\n",
    "        print(\"- Use high-yield paddy varieties suitable for the district.\")\n",
    "        print(\"- Apply balanced soil nutrients and organic matter.\")\n",
    "\n",
    "    elif predicted_yield_per_hectare > previous_yield_per_hectare:\n",
    "        print(\"Condition: Predicted Yield > Previous Yield\")\n",
    "        print(\"\\nPredicted Yield is HIGHER than the Previous Yield.\")\n",
    "        print(\"Recommendations for Maintaining or Further Improving Yield:\")\n",
    "        print(\"- Continue current agricultural practices.\")\n",
    "        print(\"- Monitor soil health regularly and apply nutrients accordingly.\")\n",
    "        print(\"- Use precision farming tools to track crop progress.\")\n",
    "        print(\"- Plan for seasonal crop rotation to maintain soil fertility.\")\n",
    "        print(\"- Use modern harvesting techniques to minimize post-harvest losses.\")\n",
    "\n",
    "    else:\n",
    "        print(\"Condition: Previous Yield == Predicted Yield\")\n",
    "        print(\"\\nPredicted Yield matches the Previous Yield. Keep up the current practices!\")\n",
    "\n",
    "    print(\"===========================\")\n",
    "    return Total_predicted_yield, predicted_yield_per_hectare\n",
    "\n",
    "# Run the function\n",
    "predict_total_harvest()\n"
   ]
  },
  {
   "cell_type": "markdown",
   "metadata": {
    "id": "3o3yJU_Hwg4l"
   },
   "source": [
    "**Predict and Compare Yields with Suiatable Recommendations for each Districts**"
   ]
  },
  {
   "cell_type": "code",
   "execution_count": null,
   "metadata": {
    "colab": {
     "base_uri": "https://localhost:8080/"
    },
    "id": "zohqvft4ZhWM",
    "outputId": "006aac17-f0ee-45c7-c940-1ebed05ac0ea"
   },
   "outputs": [],
   "source": [
    "import pandas as pd\n",
    "\n",
    "# District-specific data for selected Sri Lankan districts\n",
    "district_recommendations = {\n",
    "    'Polonnaruwa': {\n",
    "        'soil': 'Clay soil, retains moisture well.',\n",
    "        'climate': 'Hot, dry climate, with irrigation systems in place.',\n",
    "        'irrigation': 'Extensive canal irrigation, manage water usage.',\n",
    "        'pests': 'Common pests: termites and rice bugs, use organic pesticides.'\n",
    "    },\n",
    "    'Jaffna': {\n",
    "        'soil': 'Sandy soil with lower fertility.',\n",
    "        'climate': 'Low rainfall, hot temperatures, and dry conditions.',\n",
    "        'irrigation': 'Rainfed and limited irrigation, optimize water usage.',\n",
    "        'pests': 'Low pest threat, but watch out for soil-borne diseases.'\n",
    "    },\n",
    "    'Hambantota': {\n",
    "        'soil': 'Sandy soil with moderate fertility.',\n",
    "        'climate': 'Very hot, low rainfall, high evaporation rates.',\n",
    "        'irrigation': 'Rainfed and some canal irrigation systems.',\n",
    "        'pests': 'Pest threat is moderate, particularly grasshoppers and locusts.'\n",
    "    },\n",
    "    'Mannar': {\n",
    "        'soil': 'Sandy soil, needs fertilization.',\n",
    "        'climate': 'Hot and dry, with a semi-arid environment.',\n",
    "        'irrigation': 'Irrigation through wells and canals, optimize water usage.',\n",
    "        'pests': 'Low pest risk, but be mindful of root rot and fungal diseases.'\n",
    "    },\n",
    "    'Trincomalee': {\n",
    "        'soil': 'Sandy soil with low water retention.',\n",
    "        'climate': 'Hot and dry, seasonal rainfall patterns.',\n",
    "        'irrigation': 'Limited irrigation, dependence on seasonal rainfall.',\n",
    "        'pests': 'Low pest risk, monitor for root rot diseases.'\n",
    "    },\n",
    "    'Batticaloa': {\n",
    "        'soil': 'Loamy soil, suitable for paddy cultivation.',\n",
    "        'climate': 'Coastal climate with moderate rainfall.',\n",
    "        'irrigation': 'Rainfed with occasional canal irrigation.',\n",
    "        'pests': 'Moderate pest risk, particularly rice weevils and aphids.'\n",
    "    },\n",
    "    'Vavuniya': {\n",
    "        'soil': 'Clayey soil with good fertility.',\n",
    "        'climate': 'Hot and dry, moderate rainfall.',\n",
    "        'irrigation': 'Tank irrigation and some canal irrigation.',\n",
    "        'pests': 'Regular monitoring for pests like leafhoppers and caterpillars.'\n",
    "    },\n",
    "    'Kurunegala': {\n",
    "        'soil': 'Clay and loamy soils.',\n",
    "        'climate': 'Moderate rainfall, cool temperature, ideal for a variety of crops.',\n",
    "        'irrigation': 'Rainfed with canal systems.',\n",
    "        'pests': 'Regular pest management needed for caterpillars and leafhoppers.'\n",
    "    },\n",
    "    'Ampara': {\n",
    "        'soil': 'Sandy and clay soils.',\n",
    "        'climate': 'Low rainfall, high temperatures, and drought risk.',\n",
    "        'irrigation': 'Rainfed, supplemented with well water during dry periods.',\n",
    "        'pests': 'Moderate pest risk, particularly stem borers and grasshoppers.'\n",
    "    }\n",
    "}\n",
    "\n",
    "# Function to predict harvest based on input acreage and other factors, including recommendations based on yield comparison\n",
    "def predict_total_harvest():\n",
    "    # Step 1: Farmer inputs various factors\n",
    "    print(\"=== Enter Farm Data ===\")\n",
    "    area = float(input(\"Enter the total area of land in hectares: \"))\n",
    "    rainfall = float(input(\"Enter the total rainfall in mm: \"))\n",
    "    temperature = float(input(\"Enter the temperature in °C: \"))\n",
    "    humidity = float(input(\"Enter the relative humidity percentage: \"))\n",
    "    sunshine_hours = float(input(\"Enter the total sunshine hours per day: \"))\n",
    "    wind_speed = float(input(\"Enter the average wind speed in km/h: \"))\n",
    "    soil_type = input(\"Enter the soil type (e.g., Loam, Sandy, Clay): \")\n",
    "    irrigation_type = input(\"Enter the irrigation type (e.g., Rainfed, Canal, Tube Well): \")\n",
    "    water_source = input(\"Enter the water source (e.g., Well, River, Rainwater): \")\n",
    "    paddy_variety = input(\"Enter the paddy variety (e.g., BG 450, BG 250 , BG 350 , BG 360 ): \")\n",
    "    fertilizer_usage = float(input(\"Enter the fertilizer usage in kg: \"))\n",
    "    soil_nitrogen = float(input(\"Enter the soil nitrogen level in mg/kg: \"))\n",
    "    soil_phosphorus = float(input(\"Enter the soil phosphorus level in mg/kg: \"))\n",
    "    soil_potassium = float(input(\"Enter the soil potassium level in mg/kg: \"))\n",
    "    pest_severity = input(\"Enter the pest severity (e.g., Low, Medium, High): \")\n",
    "    season = input(\"Enter the season (e.g., Maha, Yala): \")\n",
    "    district = input(\"Enter the district: \")\n",
    "\n",
    "    # Step 2: Input for previous yield per acre\n",
    "    previous_yield_per_hectare = float(input(\"Enter the previous yield per hectare in kg: \"))\n",
    "\n",
    "    # Step 3: Prepare the data for prediction\n",
    "    new_data = pd.DataFrame([{\n",
    "        'Rainfall (mm)': rainfall,\n",
    "        'Temperature (°C)': temperature,\n",
    "        'Relative Humidity (%)': humidity,\n",
    "        'Sunshine Hours (hrs)': sunshine_hours,\n",
    "        'Wind Speed (km/h)': wind_speed,\n",
    "        'Soil Type': soil_type,\n",
    "        'Irrigation Type': irrigation_type,\n",
    "        'Water Source': water_source,\n",
    "        'Paddy Variety': paddy_variety,\n",
    "        'Fertilizer Usage (kg)': fertilizer_usage,\n",
    "        'Area (hectare)': area,  # This is still used, but model predicts per acre\n",
    "        'Soil Nitrogen (mg/kg)': soil_nitrogen,\n",
    "        'Soil Phosphorus (mg/kg)': soil_phosphorus,\n",
    "        'Soil Potassium (mg/kg)': soil_potassium,\n",
    "        'Pest Severity': pest_severity,\n",
    "        'Season': season,\n",
    "        'District': district\n",
    "    }])\n",
    "\n",
    "    # Step 4: Predict the total yield using the trained model (replace `pipeline` with your actual model)\n",
    "    Total_predicted_yield = pipeline.predict(new_data)[0]\n",
    "\n",
    "    # Step 5: Calculate yield per acre (Optional, as yield prediction might already be per acre)\n",
    "    predicted_yield_per_hectare = Total_predicted_yield / area\n",
    "\n",
    "    # Step 6: Display the predicted results\n",
    "    print(f\"\\n=== Predicted Results ===\")\n",
    "    print(f\"Total Harvest for {area} hectare: {Total_predicted_yield:.2f} kg\")\n",
    "    print(f\"Predicted Yield per hectare: {predicted_yield_per_hectare:.2f} kg\")\n",
    "    print(\"=========================\")\n",
    "\n",
    "    # Step 7: Compare the previous yield with the predicted yield and provide recommendations\n",
    "    print(\"\\n=== Recommendations Based on Yield Comparison ===\")\n",
    "\n",
    "    if previous_yield_per_hectare > predicted_yield_per_hectare:\n",
    "        print(\"Condition: Previous Yield > Predicted Yield\")\n",
    "        print(\"\\nPredicted Yield is LOWER than the Previous Yield.\")\n",
    "        print(\"Suggested Actions to Improve Yield:\")\n",
    "        print(\"- Optimize fertilizer usage based on soil tests.\")\n",
    "        print(\"- Improve irrigation practices to ensure consistent water supply.\")\n",
    "        print(\"- Consider pest control measures to minimize yield loss.\")\n",
    "        print(\"- Use high-yield paddy varieties suitable for the district.\")\n",
    "        print(\"- Apply balanced soil nutrients and organic matter.\")\n",
    "\n",
    "    elif predicted_yield_per_hectare > previous_yield_per_hectare:\n",
    "        print(\"Condition: Predicted Yield > Previous Yield\")\n",
    "        print(\"\\nPredicted Yield is HIGHER than the Previous Yield.\")\n",
    "        print(\"Recommendations for Maintaining or Further Improving Yield:\")\n",
    "        print(\"- Continue current agricultural practices.\")\n",
    "        print(\"- Monitor soil health regularly and apply nutrients accordingly.\")\n",
    "        print(\"- Use precision farming tools to track crop progress.\")\n",
    "        print(\"- Plan for seasonal crop rotation to maintain soil fertility.\")\n",
    "        print(\"- Use modern harvesting techniques to minimize post-harvest losses.\")\n",
    "\n",
    "    else:\n",
    "        print(\"Condition: Previous Yield == Predicted Yield\")\n",
    "        print(\"\\nPredicted Yield matches the Previous Yield. Keep up the current practices!\")\n",
    "\n",
    "    # Step 8: District-specific recommendations\n",
    "    print(\"\\n=== District-Specific Recommendations ===\")\n",
    "    if district in district_recommendations:\n",
    "        print(f\"District: {district}\")\n",
    "        print(f\"Soil: {district_recommendations[district]['soil']}\")\n",
    "        print(f\"Climate: {district_recommendations[district]['climate']}\")\n",
    "        print(f\"Irrigation: {district_recommendations[district]['irrigation']}\")\n",
    "        print(f\"Pests: {district_recommendations[district]['pests']}\")\n",
    "    else:\n",
    "        print(f\"No specific recommendations available for district: {district}. Please consult local agriculture experts.\")\n",
    "    print(\"===========================\")\n",
    "\n",
    "# Run the function\n",
    "predict_total_harvest()\n"
   ]
  },
  {
   "cell_type": "markdown",
   "metadata": {
    "id": "GgY7o_jkw4t1"
   },
   "source": [
    "**Visualize Model Performance**"
   ]
  },
  {
   "cell_type": "code",
   "execution_count": null,
   "metadata": {
    "colab": {
     "base_uri": "https://localhost:8080/",
     "height": 1000
    },
    "id": "dYPRyrGmsrXu",
    "outputId": "38219c77-d616-4fa4-a6e0-caacfeb2a868"
   },
   "outputs": [],
   "source": [
    "import matplotlib.pyplot as plt\n",
    "\n",
    "# Calculate residuals\n",
    "residuals = y_test - y_pred\n",
    "\n",
    "# Scatter plot of Actual vs Predicted values\n",
    "plt.figure(figsize=(10, 6))\n",
    "plt.scatter(y_test, y_pred, alpha=0.7, edgecolor='k')\n",
    "plt.plot([min(y_test), max(y_test)], [min(y_test), max(y_test)], color='red', linestyle='--', label=\"Ideal Fit\")\n",
    "plt.title(\"Actual vs Predicted Yield\")\n",
    "plt.xlabel(\"Actual Yield (kg/acre)\")\n",
    "plt.ylabel(\"Predicted Yield (kg/acre)\")\n",
    "plt.legend()\n",
    "plt.grid(True)\n",
    "plt.show()\n",
    "\n",
    "# Histogram of Residuals\n",
    "plt.figure(figsize=(10, 6))\n",
    "plt.hist(residuals, bins=30, color='blue', alpha=0.7, edgecolor='k')\n",
    "plt.title(\"Distribution of Residuals\")\n",
    "plt.xlabel(\"Residuals (Actual - Predicted)\")\n",
    "plt.ylabel(\"Frequency\")\n",
    "plt.grid(True)\n",
    "plt.show()\n",
    "\n",
    "# Residuals vs Predicted values\n",
    "plt.figure(figsize=(10, 6))\n",
    "plt.scatter(y_pred, residuals, alpha=0.7, edgecolor='k')\n",
    "plt.axhline(0, color='red', linestyle='--', label=\"Ideal Residual Line\")\n",
    "plt.title(\"Residuals vs Predicted Values\")\n",
    "plt.xlabel(\"Predicted Yield (kg/acre)\")\n",
    "plt.ylabel(\"Residuals (Actual - Predicted)\")\n",
    "plt.legend()\n",
    "plt.grid(True)\n",
    "plt.show()\n"
   ]
  },
  {
   "cell_type": "code",
   "execution_count": null,
   "metadata": {},
   "outputs": [],
   "source": [
    "import pickle\n",
    "\n",
    "\n",
    "with open('rice_yield_random_forest_model.pkl', 'rb') as f:\n",
    "    data = pickle.load(f)"
   ]
  },
  {
   "cell_type": "code",
   "execution_count": null,
   "metadata": {},
   "outputs": [],
   "source": []
  }
 ],
 "metadata": {
  "colab": {
   "provenance": []
  },
  "kernelspec": {
   "display_name": "venv",
   "language": "python",
   "name": "python3"
  },
  "language_info": {
   "codemirror_mode": {
    "name": "ipython",
    "version": 3
   },
   "file_extension": ".py",
   "mimetype": "text/x-python",
   "name": "python",
   "nbconvert_exporter": "python",
   "pygments_lexer": "ipython3",
   "version": "3.12.3"
  }
 },
 "nbformat": 4,
 "nbformat_minor": 0
}
